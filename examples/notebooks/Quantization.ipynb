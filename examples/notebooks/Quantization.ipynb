{
 "cells": [
  {
   "cell_type": "code",
   "execution_count": null,
   "metadata": {},
   "outputs": [],
   "source": [
    "!pip install onnx onnxruntime transformers"
   ]
  },
  {
   "cell_type": "code",
   "execution_count": null,
   "metadata": {},
   "outputs": [],
   "source": [
    "import os\n",
    "\n",
    "import torch\n",
    "\n",
    "from transformers import AutoModel, AutoTokenizer\n",
    "\n",
    "from catalyst.utils.quantization import quantize"
   ]
  },
  {
   "cell_type": "code",
   "execution_count": null,
   "metadata": {},
   "outputs": [],
   "source": [
    "tokenizer = AutoTokenizer.from_pretrained(\"google/bert_uncased_L-4_H-512_A-8\")  \n",
    "model = AutoModel.from_pretrained(\"google/bert_uncased_L-4_H-512_A-8\")"
   ]
  },
  {
   "cell_type": "code",
   "execution_count": null,
   "metadata": {},
   "outputs": [],
   "source": [
    "torch.save(model.state_dict(), \"model.pth\")\n",
    "\n",
    "print(f\"Model size: {os.path.getsize('model.pth')/2**20:.2f}\")\n",
    "q_model = quantize(model)\n",
    "torch.save(q_model.state_dict(), \"quantized_model.pth\")\n",
    "print(f\"Quantized model size: {os.path.getsize('quantized_model.pth')/2**20:.2f}\")"
   ]
  },
  {
   "cell_type": "code",
   "execution_count": null,
   "metadata": {},
   "outputs": [],
   "source": [
    "symbolic_names = {0: 'batch_size', 1: 'max_seq_len'}\n",
    "inputs = {\n",
    "    'input_ids':      torch.ones(1,128, dtype=torch.int64),\n",
    "    'attention_mask': torch.ones(1,128, dtype=torch.int64),\n",
    "}\n",
    "\n",
    "quantize(\n",
    "    model,\n",
    "    backend=\"onnx\",\n",
    "    onnx_params={\n",
    "        \"inp_shape\": (\n",
    "            inputs[\"input_ids\"],\n",
    "            inputs[\"attention_mask\"]\n",
    "        ),\n",
    "        \"file\": \"model.onnx\",\n",
    "        \"opset_version\": 11,\n",
    "        \"do_constant_folding\": True,\n",
    "        \"input_names\": [\"input_ids\", \"attention_mask\"],\n",
    "        \"output_names\": [\"output\"],\n",
    "        \"dynamic_axes\": {\n",
    "            \"input_ids\": symbolic_names,\n",
    "            \"attention_mask\": symbolic_names\n",
    "        }\n",
    "    }\n",
    ")"
   ]
  },
  {
   "cell_type": "code",
   "execution_count": null,
   "outputs": [],
   "source": [
    "print(f\"Model size: {os.path.getsize('model.onnx')/2**20:.2f}\")\n",
    "print(f\"Quantized model size: {os.path.getsize('quantized_model.onnx')/2**20:.2f}\")"
   ],
   "metadata": {
    "collapsed": false,
    "pycharm": {
     "name": "#%%\n"
    }
   }
  },
  {
   "cell_type": "code",
   "execution_count": null,
   "metadata": {},
   "outputs": [],
   "source": []
  },
  {
   "cell_type": "code",
   "execution_count": null,
   "metadata": {},
   "outputs": [],
   "source": []
  }
 ],
 "metadata": {
  "hide_input": false,
  "kernelspec": {
   "display_name": "Python 3",
   "language": "python",
   "name": "python3"
  },
  "language_info": {
   "codemirror_mode": {
    "name": "ipython",
    "version": 3
   },
   "file_extension": ".py",
   "mimetype": "text/x-python",
   "name": "python",
   "nbconvert_exporter": "python",
   "pygments_lexer": "ipython3",
   "version": "3.7.6"
  },
  "latex_envs": {
   "LaTeX_envs_menu_present": true,
   "autoclose": false,
   "autocomplete": true,
   "bibliofile": "biblio.bib",
   "cite_by": "apalike",
   "current_citInitial": 1,
   "eqLabelWithNumbers": true,
   "eqNumInitial": 1,
   "hotkeys": {
    "equation": "Ctrl-E",
    "itemize": "Ctrl-I"
   },
   "labels_anchors": false,
   "latex_user_defs": false,
   "report_style_numbering": false,
   "user_envs_cfg": false
  },
  "varInspector": {
   "cols": {
    "lenName": 16,
    "lenType": 16,
    "lenVar": 40
   },
   "kernels_config": {
    "python": {
     "delete_cmd_postfix": "",
     "delete_cmd_prefix": "del ",
     "library": "var_list.py",
     "varRefreshCmd": "print(var_dic_list())"
    },
    "r": {
     "delete_cmd_postfix": ") ",
     "delete_cmd_prefix": "rm(",
     "library": "var_list.r",
     "varRefreshCmd": "cat(var_dic_list()) "
    }
   },
   "types_to_exclude": [
    "module",
    "function",
    "builtin_function_or_method",
    "instance",
    "_Feature"
   ],
   "window_display": false
  }
 },
 "nbformat": 4,
 "nbformat_minor": 1
}